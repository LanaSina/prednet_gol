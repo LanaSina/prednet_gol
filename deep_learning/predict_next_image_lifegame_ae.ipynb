{
 "cells": [
  {
   "cell_type": "code",
   "execution_count": 1,
   "metadata": {},
   "outputs": [],
   "source": [
    "import numpy as np\n",
    "import pickle\n",
    "import matplotlib.pyplot as plt\n",
    "%matplotlib inline\n",
    "import random\n",
    "import os\n",
    "import chainer\n",
    "from chainer.dataset import convert\n",
    "import cv2\n",
    "import net_conv"
   ]
  },
  {
   "cell_type": "code",
   "execution_count": 273,
   "metadata": {},
   "outputs": [],
   "source": [
    "with open('../data/lifegame_data.pickle', 'rb') as f:\n",
    "    d = pickle.load(f)\n",
    "d[0] = np.array(list(map(lambda x: x.astype('float32'), d[0])))\n",
    "with open('../data/lifegame_data_test.pickle', 'rb') as f:\n",
    "    d_test = pickle.load(f)\n",
    "d_test[0] = np.array(list(map(lambda x: x.astype('float32'), d_test[0])))\n",
    "with open('../data/lifegame_data_glider.pickle', 'rb') as f:\n",
    "    d_glider = pickle.load(f)\n",
    "d_glider[0] = np.array(list(map(lambda x: x.astype('float32'), d_glider[0])))"
   ]
  },
  {
   "cell_type": "code",
   "execution_count": 274,
   "metadata": {},
   "outputs": [
    {
     "name": "stdout",
     "output_type": "stream",
     "text": [
      "(10000, 16, 20)\n",
      "(100, 16, 20)\n",
      "(100, 16, 20)\n"
     ]
    }
   ],
   "source": [
    "print(d[0].shape)\n",
    "print(d_test[0].shape)\n",
    "print(d_glider[0].shape)"
   ]
  },
  {
   "cell_type": "code",
   "execution_count": 276,
   "metadata": {},
   "outputs": [
    {
     "data": {
      "text/plain": [
       "<matplotlib.image.AxesImage at 0x2061b455710>"
      ]
     },
     "execution_count": 276,
     "metadata": {},
     "output_type": "execute_result"
    },
    {
     "data": {
      "image/png": "[encoded data removed]",
      "text/plain": [
       "<Figure size 432x288 with 1 Axes>"
      ]
     },
     "metadata": {
      "needs_background": "light"
     },
     "output_type": "display_data"
    }
   ],
   "source": [
    "plt.gray()\n",
    "\n",
    "plt.imshow(d[0][0])"
   ]
  },
  {
   "cell_type": "code",
   "execution_count": 56,
   "metadata": {},
   "outputs": [],
   "source": [
    "N = d[0][0].shape[0]\n",
    "N2 = d[0][0].shape[1]\n",
    "gpu = -1\n",
    "dimz = 100\n",
    "batchsize = 16\n",
    "epoch = 100\n",
    "initmodel = ''\n",
    "resume = ''\n",
    "out = 'result'\n",
    "is_test = False #'store_true'"
   ]
  },
  {
   "cell_type": "code",
   "execution_count": 57,
   "metadata": {},
   "outputs": [
    {
     "name": "stdout",
     "output_type": "stream",
     "text": [
      "GPU: -1\n",
      "# dim z: 100\n",
      "# Minibatch-size: 16\n",
      "# epoch: 100\n",
      "\n"
     ]
    }
   ],
   "source": [
    "print('GPU: {}'.format(gpu))\n",
    "print('# dim z: {}'.format(dimz))\n",
    "print('# Minibatch-size: {}'.format(batchsize))\n",
    "print('# epoch: {}'.format(epoch))\n",
    "print('')"
   ]
  },
  {
   "cell_type": "code",
   "execution_count": 58,
   "metadata": {},
   "outputs": [],
   "source": [
    "# Initialize / Resume\n",
    "if initmodel:\n",
    "    chainer.serializers.load_npz(initmodel, model)\n",
    "if resume:\n",
    "    chainer.serializers.load_npz(resume, optimizer)"
   ]
  },
  {
   "cell_type": "code",
   "execution_count": 59,
   "metadata": {},
   "outputs": [],
   "source": [
    "train = list()\n",
    "for i in range(len(d[0])-1):\n",
    "#     idx = i % 100\n",
    "    idx = i\n",
    "    if d[1][idx] == False:\n",
    "        train.append((d[0][idx].reshape(1, N, N2), d[0][idx+1].reshape(1, N, N2)))"
   ]
  },
  {
   "cell_type": "code",
   "execution_count": 60,
   "metadata": {},
   "outputs": [
    {
     "data": {
      "text/plain": [
       "9000"
      ]
     },
     "execution_count": 60,
     "metadata": {},
     "output_type": "execute_result"
    }
   ],
   "source": [
    "len(train)"
   ]
  },
  {
   "cell_type": "code",
   "execution_count": 61,
   "metadata": {},
   "outputs": [],
   "source": [
    "n = 8000\n",
    "test = train[n:]\n",
    "train = train[:n]"
   ]
  },
  {
   "cell_type": "code",
   "execution_count": 277,
   "metadata": {},
   "outputs": [],
   "source": [
    "# Prednetのtestデータと揃える\n",
    "test_for_plot = list()\n",
    "for i in range(len(d_test[0])):\n",
    "    test_for_plot.append(d_test[0][i].reshape(1, N, N2))\n",
    "test_for_plot_glider = list()\n",
    "for i in range(len(d_glider[0])):\n",
    "    test_for_plot_glider.append(d_glider[0][i].reshape(1, N, N2))"
   ]
  },
  {
   "cell_type": "code",
   "execution_count": 63,
   "metadata": {},
   "outputs": [],
   "source": [
    "random.shuffle(train)\n",
    "random.shuffle(test)"
   ]
  },
  {
   "cell_type": "code",
   "execution_count": 64,
   "metadata": {},
   "outputs": [],
   "source": [
    "if is_test:\n",
    "    train, _ = chainer.datasets.split_dataset(train, 100)\n",
    "    test, _ = chainer.datasets.split_dataset(test, 100)\n",
    "train_count = len(train)\n",
    "test_count = len(test)\n",
    "\n",
    "train_iter = chainer.iterators.SerialIterator(train, batchsize)\n",
    "test_iter = chainer.iterators.SerialIterator(test, batchsize, repeat=False, shuffle=False)"
   ]
  },
  {
   "cell_type": "code",
   "execution_count": 65,
   "metadata": {},
   "outputs": [
    {
     "data": {
      "text/plain": [
       "<chainer.optimizers.adam.Adam at 0x2061c761eb8>"
      ]
     },
     "execution_count": 65,
     "metadata": {},
     "output_type": "execute_result"
    }
   ],
   "source": [
    "model = net_conv.ConvAE_mini(input_size=N, input_size2=N2, n_filters=20, n_latent=dimz, filter_size=3, activation='relu')\n",
    "# Setup an optimizer\n",
    "optimizer = chainer.optimizers.Adam()\n",
    "optimizer.setup(model)"
   ]
  },
  {
   "cell_type": "code",
   "execution_count": 66,
   "metadata": {
    "scrolled": true
   },
   "outputs": [
    {
     "name": "stdout",
     "output_type": "stream",
     "text": [
      "1\n",
      "train mean loss=0.03470445251464844\n",
      "test mean loss=16.117757034301757\n",
      "2\n",
      "train mean loss=0.03304153442382812\n",
      "test mean loss=13.175619880676269\n",
      "3\n",
      "train mean loss=0.03282184600830078\n",
      "test mean loss=11.640680442810059\n",
      "4\n",
      "train mean loss=0.01426884651184082\n",
      "test mean loss=10.470060119628906\n",
      "5\n",
      "train mean loss=0.028987207412719727\n",
      "test mean loss=9.433026851654052\n",
      "6\n",
      "train mean loss=0.029801042556762695\n",
      "test mean loss=8.549299987792969\n",
      "7\n",
      "train mean loss=0.013975221633911133\n",
      "test mean loss=7.681295553207398\n",
      "8\n",
      "train mean loss=0.01647832489013672\n",
      "test mean loss=6.903889587402344\n",
      "9\n",
      "train mean loss=0.01802654266357422\n",
      "test mean loss=6.195808172225952\n",
      "10\n",
      "train mean loss=0.009586421966552735\n",
      "test mean loss=5.526062135696411\n",
      "11\n",
      "train mean loss=0.008927136421203614\n",
      "test mean loss=4.917553077697754\n",
      "12\n",
      "train mean loss=0.00937906551361084\n",
      "test mean loss=4.330315700531006\n",
      "13\n",
      "train mean loss=0.010228879928588867\n",
      "test mean loss=3.8238845739364624\n",
      "14\n",
      "train mean loss=0.008336231231689454\n",
      "test mean loss=3.369646897315979\n",
      "15\n",
      "train mean loss=0.004436233043670654\n",
      "test mean loss=2.972945095062256\n",
      "16\n",
      "train mean loss=0.004427859306335449\n",
      "test mean loss=2.620991523742676\n",
      "17\n",
      "train mean loss=0.0049486360549926755\n",
      "test mean loss=2.3162849655151367\n",
      "18\n",
      "train mean loss=0.003324472188949585\n",
      "test mean loss=2.0528951005935667\n",
      "19\n",
      "train mean loss=0.003965665340423584\n",
      "test mean loss=1.762429316997528\n",
      "20\n",
      "train mean loss=0.0028230664730072024\n",
      "test mean loss=1.3496946620941161\n",
      "21\n",
      "train mean loss=0.0017794880867004394\n",
      "test mean loss=1.0522019870281218\n",
      "22\n",
      "train mean loss=0.0023591122627258303\n",
      "test mean loss=0.8229159603118896\n",
      "23\n",
      "train mean loss=0.0012923924922943115\n",
      "test mean loss=0.6199690208435059\n",
      "24\n",
      "train mean loss=0.0008281036019325256\n",
      "test mean loss=0.48419407844543455\n",
      "25\n",
      "train mean loss=0.000809482991695404\n",
      "test mean loss=0.372942889213562\n",
      "26\n",
      "train mean loss=0.0006576929092407226\n",
      "test mean loss=0.2950514796972275\n",
      "27\n",
      "train mean loss=0.0005713318586349487\n",
      "test mean loss=0.23740894430875778\n",
      "28\n",
      "train mean loss=0.0003485640585422516\n",
      "test mean loss=0.1863745533823967\n",
      "29\n",
      "train mean loss=0.00024526911973953247\n",
      "test mean loss=0.1435569232702255\n",
      "30\n",
      "train mean loss=0.00023390966653823853\n",
      "test mean loss=0.11248088878393173\n",
      "31\n",
      "train mean loss=0.00018969854712486267\n",
      "test mean loss=0.08960932159423828\n",
      "32\n",
      "train mean loss=0.00032681062817573546\n",
      "test mean loss=0.06989449927210808\n",
      "33\n",
      "train mean loss=0.00014320588111877441\n",
      "test mean loss=0.05542523559927941\n",
      "34\n",
      "train mean loss=8.67384821176529e-05\n",
      "test mean loss=0.04398815754055977\n",
      "35\n",
      "train mean loss=4.592660814523697e-05\n",
      "test mean loss=0.034705508574843405\n",
      "36\n",
      "train mean loss=5.517945811152458e-05\n",
      "test mean loss=0.0267126025557518\n",
      "37\n",
      "train mean loss=2.4115756154060365e-05\n",
      "test mean loss=0.02110838796198368\n",
      "38\n",
      "train mean loss=2.3602943867444993e-05\n",
      "test mean loss=0.0166090843975544\n",
      "39\n",
      "train mean loss=3.450876101851463e-05\n",
      "test mean loss=0.012764094542711973\n",
      "40\n",
      "train mean loss=2.330487221479416e-05\n",
      "test mean loss=0.009649896960705518\n",
      "41\n",
      "train mean loss=1.1717338114976884e-05\n",
      "test mean loss=0.0075773007068783045\n",
      "42\n",
      "train mean loss=5.8876862749457355e-06\n",
      "test mean loss=0.005952109254896641\n",
      "43\n",
      "train mean loss=6.405881606042385e-06\n",
      "test mean loss=0.004784688213840127\n",
      "44\n",
      "train mean loss=4.662936553359032e-06\n",
      "test mean loss=0.0038061105934903026\n",
      "45\n",
      "train mean loss=3.97719070315361e-06\n",
      "test mean loss=0.0031203611455857755\n",
      "46\n",
      "train mean loss=4.811502061784267e-06\n",
      "test mean loss=0.002448110501281917\n",
      "47\n",
      "train mean loss=2.9595312662422657e-06\n",
      "test mean loss=0.0019376211883500218\n",
      "48\n",
      "train mean loss=9.096971713006497e-06\n",
      "test mean loss=0.0016266914182342588\n",
      "49\n",
      "train mean loss=3.2490717712789772e-06\n",
      "test mean loss=0.0012867385025601833\n",
      "50\n",
      "train mean loss=1.4819728676229715e-06\n",
      "test mean loss=0.0010142497883643955\n",
      "51\n",
      "train mean loss=9.245295077562332e-07\n",
      "test mean loss=0.0008183701997622847\n",
      "52\n",
      "train mean loss=2.0996804814785717e-06\n",
      "test mean loss=0.0006647471948526799\n",
      "53\n",
      "train mean loss=9.300511446781456e-07\n",
      "test mean loss=0.0005322506651282311\n",
      "54\n",
      "train mean loss=1.2240767246112227e-06\n",
      "test mean loss=0.00043395659688394515\n",
      "55\n",
      "train mean loss=8.940019179135561e-07\n",
      "test mean loss=0.00035133012651931495\n",
      "56\n",
      "train mean loss=3.576467279344797e-07\n",
      "test mean loss=0.00029237175546586514\n",
      "57\n",
      "train mean loss=4.014029691461474e-07\n",
      "test mean loss=0.0002337051231879741\n",
      "58\n",
      "train mean loss=7.099335780367256e-07\n",
      "test mean loss=0.0001912334092776291\n",
      "59\n",
      "train mean loss=3.489429655019194e-07\n",
      "test mean loss=0.00015216835270985028\n",
      "60\n",
      "train mean loss=3.337127564009279e-07\n",
      "test mean loss=0.0001276865414401982\n",
      "61\n",
      "train mean loss=2.0305326324887574e-07\n",
      "test mean loss=9.898102059378288e-05\n",
      "62\n",
      "train mean loss=3.015573020093143e-07\n",
      "test mean loss=8.122959529282525e-05\n",
      "63\n",
      "train mean loss=7.765751797705889e-08\n",
      "test mean loss=6.582483284000773e-05\n",
      "64\n",
      "train mean loss=8.669645467307418e-08\n",
      "test mean loss=5.472819341230206e-05\n",
      "65\n",
      "train mean loss=5.289537511998788e-08\n",
      "test mean loss=4.6659136707603464e-05\n",
      "66\n",
      "train mean loss=5.594811591436155e-08\n",
      "test mean loss=3.773266448115464e-05\n",
      "67\n",
      "train mean loss=1.525866682641208e-07\n",
      "test mean loss=3.2904651459830344e-05\n",
      "68\n",
      "train mean loss=5.299441545503214e-08\n",
      "test mean loss=2.878552573383786e-05\n",
      "69\n",
      "train mean loss=2.1999076125212015e-08\n",
      "test mean loss=2.059638891296345e-05\n",
      "70\n",
      "train mean loss=2.4315970222232862e-08\n",
      "test mean loss=1.7979305161134106e-05\n",
      "71\n",
      "train mean loss=5.373750173021108e-08\n",
      "test mean loss=1.3985739342388114e-05\n",
      "72\n",
      "train mean loss=3.4705026337178426e-08\n",
      "test mean loss=1.1459859260867233e-05\n",
      "73\n",
      "train mean loss=2.354717616981361e-08\n",
      "test mean loss=9.732267743856938e-06\n",
      "74\n",
      "train mean loss=5.322399738361128e-08\n",
      "test mean loss=9.116065209127556e-06\n",
      "75\n",
      "train mean loss=3.213624722775421e-09\n",
      "test mean loss=6.669803830845921e-06\n",
      "76\n",
      "train mean loss=1.2910559235024265e-08\n",
      "test mean loss=5.829738566717424e-06\n",
      "77\n",
      "train mean loss=1.3774294529866892e-08\n",
      "test mean loss=4.8523290838602406e-06\n",
      "78\n",
      "train mean loss=2.708652118599275e-09\n",
      "test mean loss=3.819933809154463e-06\n",
      "79\n",
      "train mean loss=2.4800058326945874e-09\n",
      "test mean loss=3.0803872170963588e-06\n",
      "80\n",
      "train mean loss=1.502124359831214e-08\n",
      "test mean loss=2.649225564482549e-06\n",
      "81\n",
      "train mean loss=6.021074568707263e-09\n",
      "test mean loss=2.3873140410159975e-06\n",
      "82\n",
      "train mean loss=3.8077855606388765e-09\n",
      "test mean loss=1.6795726768350506e-06\n",
      "83\n",
      "train mean loss=4.786443241755478e-09\n",
      "test mean loss=1.5490417999899363e-06\n",
      "84\n",
      "train mean loss=3.479816768958699e-09\n",
      "test mean loss=1.1751802195476556e-06\n",
      "85\n",
      "train mean loss=1.0291785201843595e-09\n",
      "test mean loss=9.317649100921699e-07\n",
      "86\n",
      "train mean loss=1.4180865264279418e-09\n",
      "test mean loss=8.343836833546448e-07\n",
      "87\n",
      "train mean loss=2.3207711308259605e-10\n",
      "test mean loss=7.101734479988409e-07\n",
      "88\n",
      "train mean loss=2.3898699055280304e-09\n",
      "test mean loss=7.362593170796572e-07\n",
      "89\n",
      "train mean loss=8.486675824315171e-10\n",
      "test mean loss=5.150241870524041e-07\n",
      "90\n",
      "train mean loss=3.2432745911137317e-10\n",
      "test mean loss=4.1030809339304144e-07\n",
      "91\n",
      "train mean loss=7.320286385947839e-10\n",
      "test mean loss=2.966285361480914e-07\n",
      "92\n",
      "train mean loss=9.589206229065894e-11\n",
      "test mean loss=2.6747468602650314e-07\n",
      "93\n",
      "train mean loss=1.9746312318602577e-10\n",
      "test mean loss=1.8878355588114458e-07\n",
      "94\n",
      "train mean loss=3.9146317476479454e-10\n",
      "test mean loss=1.9193279524643002e-07\n",
      "95\n",
      "train mean loss=5.673558689522907e-10\n",
      "test mean loss=1.659821226667191e-07\n",
      "96\n",
      "train mean loss=7.642320554168692e-11\n",
      "test mean loss=1.46996098219887e-07\n",
      "97\n",
      "train mean loss=6.450519549616729e-10\n",
      "test mean loss=1.3605759828294594e-07\n",
      "98\n",
      "train mean loss=2.4126629796228373e-09\n",
      "test mean loss=7.303830659033394e-08\n",
      "99\n",
      "train mean loss=2.7723997320094895e-11\n",
      "test mean loss=6.38972268998117e-08\n",
      "100\n",
      "train mean loss=4.4782787256281155e-11\n",
      "test mean loss=5.173271253511302e-08\n"
     ]
    }
   ],
   "source": [
    "c = 1\n",
    "while train_iter.epoch < epoch:\n",
    "    sum_loss = 0\n",
    "    batch = train_iter.next()\n",
    "    x_array1 = convert.concat_examples(list(map(lambda x: x[0], batch)), gpu)\n",
    "    x_array2 = convert.concat_examples(list(map(lambda x: x[1], batch)), gpu)\n",
    "    x = chainer.Variable(x_array1)\n",
    "    # Update model based on the loss function\n",
    "    # defined by model.get_loss_func()\n",
    "    optimizer.update(model.get_loss_func(), x, x_array2)\n",
    "    sum_loss += float(model.loss.data) * len(x.data)\n",
    "    if train_iter.is_new_epoch:\n",
    "        print(c)\n",
    "        c += 1\n",
    "        print('train mean loss={}'.format(sum_loss / train_count))\n",
    "        # evaluation\n",
    "        sum_loss = 0\n",
    "        for batch in test_iter:\n",
    "            x_array1 = convert.concat_examples(list(map(lambda x: x[0], batch)), gpu)\n",
    "            x_array2 = convert.concat_examples(list(map(lambda x: x[1], batch)), gpu)\n",
    "            x = chainer.Variable(x_array1)\n",
    "            loss_func = model.get_loss_func(k=10)\n",
    "            loss_func(x, x_array2)\n",
    "            sum_loss += float(model.loss.data) * len(x.data)\n",
    "        test_iter.reset()\n",
    "        print('test mean loss={}'.format(sum_loss / test_count))"
   ]
  },
  {
   "cell_type": "code",
   "execution_count": 75,
   "metadata": {},
   "outputs": [
    {
     "name": "stdout",
     "output_type": "stream",
     "text": [
      "save the model\n",
      "save the optimizer\n"
     ]
    }
   ],
   "source": [
    "# Note that os.makedirs(path, exist_ok=True) can be used\n",
    "# if this script only supports python3\n",
    "# if not os.path.exists(out):\n",
    "#     os.mkdir(out)\n",
    "\n",
    "# Save the model and the optimizer\n",
    "print('save the model')\n",
    "chainer.serializers.save_npz(os.path.join(out, 'model.model'), model)\n",
    "print('save the optimizer')\n",
    "chainer.serializers.save_npz(os.path.join(out, 'state.state'), optimizer)"
   ]
  },
  {
   "cell_type": "code",
   "execution_count": 37,
   "metadata": {},
   "outputs": [],
   "source": [
    "# Visualize the results\n",
    "def save_images(x, filename):\n",
    "    import matplotlib.pyplot as plt\n",
    "    fig, ax = plt.subplots(3, 3, figsize=(9, 9), dpi=100)\n",
    "    for ai, xi in zip(ax.flatten(), x):\n",
    "        ai.imshow(xi[0])\n",
    "    fig.savefig(filename)"
   ]
  },
  {
   "cell_type": "code",
   "execution_count": 67,
   "metadata": {
    "scrolled": true
   },
   "outputs": [
    {
     "data": {
      "image/png": "[encoded data removed]",
      "text/plain": [
       "<Figure size 900x900 with 9 Axes>"
      ]
     },
     "metadata": {
      "needs_background": "light"
     },
     "output_type": "display_data"
    },
    {
     "data": {
      "image/png": "[encoded data removed]",
      "text/plain": [
       "<Figure size 900x900 with 9 Axes>"
      ]
     },
     "metadata": {
      "needs_background": "light"
     },
     "output_type": "display_data"
    },
    {
     "data": {
      "image/png": "[encoded data removed]",
      "text/plain": [
       "<Figure size 900x900 with 9 Axes>"
      ]
     },
     "metadata": {
      "needs_background": "light"
     },
     "output_type": "display_data"
    },
    {
     "data": {
      "image/png": "[encoded data removed]",
      "text/plain": [
       "<Figure size 900x900 with 9 Axes>"
      ]
     },
     "metadata": {
      "needs_background": "light"
     },
     "output_type": "display_data"
    },
    {
     "data": {
      "image/png": "[encoded data removed]",
      "text/plain": [
       "<Figure size 900x900 with 9 Axes>"
      ]
     },
     "metadata": {
      "needs_background": "light"
     },
     "output_type": "display_data"
    },
    {
     "data": {
      "image/png": "[encoded data removed]",
      "text/plain": [
       "<Figure size 900x900 with 9 Axes>"
      ]
     },
     "metadata": {
      "needs_background": "light"
     },
     "output_type": "display_data"
    }
   ],
   "source": [
    "model.to_cpu()\n",
    "train_ind = np.random.randint(0,len(train),9)\n",
    "# train_ind = [0,1,2,3,4,5,6,7,8]\n",
    "batch = np.asarray(train)[train_ind]\n",
    "x_array1 = convert.concat_examples(list(map(lambda x: x[0], batch)), gpu)\n",
    "x_array2 = convert.concat_examples(list(map(lambda x: x[1], batch)), gpu)\n",
    "x = chainer.Variable(x_array1)\n",
    "with chainer.using_config('train', False), chainer.no_backprop_mode():\n",
    "    x1 = model(x)\n",
    "save_images(x_array1, os.path.join(out, 'train_x'))\n",
    "save_images(x_array2, os.path.join(out, 'train_xnext'))\n",
    "save_images(x1.data, os.path.join(out, 'train_xnextreconstructed'))\n",
    "\n",
    "# test_ind = np.random.randint(0,len(test),9)\n",
    "test_ind = [0,1,2,3,4,5,6,7,8]\n",
    "batch = np.asarray(test_for_plot)[test_ind]\n",
    "x_array1 = convert.concat_examples(list(map(lambda x: x[0], batch)), gpu)\n",
    "x_array2 = convert.concat_examples(list(map(lambda x: x[1], batch)), gpu)\n",
    "x = chainer.Variable(x_array1)\n",
    "with chainer.using_config('train', False), chainer.no_backprop_mode():\n",
    "    x1 = model(x)\n",
    "save_images(x_array1, os.path.join(out, 'test_x'))\n",
    "save_images(x_array2, os.path.join(out, 'test_xnext'))\n",
    "save_images(x1.data, os.path.join(out, 'test_xnextreconstructed'))\n"
   ]
  },
  {
   "cell_type": "code",
   "execution_count": null,
   "metadata": {},
   "outputs": [],
   "source": []
  },
  {
   "cell_type": "code",
   "execution_count": null,
   "metadata": {},
   "outputs": [],
   "source": []
  },
  {
   "cell_type": "markdown",
   "metadata": {},
   "source": [
    "Can this model predict Glider? or not."
   ]
  },
  {
   "cell_type": "code",
   "execution_count": 68,
   "metadata": {},
   "outputs": [],
   "source": [
    "with open('../data/lifegame_data_glider.pickle', 'rb') as f:\n",
    "    d2 = pickle.load(f)\n",
    "\n",
    "d2[0] = np.array(list(map(lambda x: x.astype('float32'), d2[0])))"
   ]
  },
  {
   "cell_type": "code",
   "execution_count": 69,
   "metadata": {},
   "outputs": [
    {
     "data": {
      "text/plain": [
       "<matplotlib.image.AxesImage at 0x206191721d0>"
      ]
     },
     "execution_count": 69,
     "metadata": {},
     "output_type": "execute_result"
    },
    {
     "data": {
      "image/png": "[encoded data removed]",
      "text/plain": [
       "<Figure size 432x288 with 1 Axes>"
      ]
     },
     "metadata": {
      "needs_background": "light"
     },
     "output_type": "display_data"
    }
   ],
   "source": [
    "plt.gray()\n",
    "plt.imshow(d2[0][0])"
   ]
  },
  {
   "cell_type": "code",
   "execution_count": 72,
   "metadata": {},
   "outputs": [],
   "source": [
    "glider = list()\n",
    "for i in range(len(d2[0])-1):\n",
    "    idx = i\n",
    "    if d2[1][idx] == False:\n",
    "        glider.append((d2[0][idx].reshape(1, N, N2), d2[0][idx+1].reshape(1, N, N2)))"
   ]
  },
  {
   "cell_type": "code",
   "execution_count": 73,
   "metadata": {},
   "outputs": [],
   "source": [
    "# Visualize the results\n",
    "def save_images2(x, filename):\n",
    "    import matplotlib.pyplot as plt\n",
    "    fig, ax = plt.subplots(5, 5, figsize=(9, 9), dpi=100)\n",
    "    for ai, xi in zip(ax.flatten(), x):\n",
    "        ai.imshow(xi[0])\n",
    "    fig.savefig(filename)"
   ]
  },
  {
   "cell_type": "code",
   "execution_count": 74,
   "metadata": {},
   "outputs": [
    {
     "data": {
      "image/png": "[encoded data removed]",
      "text/plain": [
       "<Figure size 900x900 with 25 Axes>"
      ]
     },
     "metadata": {
      "needs_background": "light"
     },
     "output_type": "display_data"
    },
    {
     "data": {
      "image/png": "[encoded data removed]",
      "text/plain": [
       "<Figure size 900x900 with 25 Axes>"
      ]
     },
     "metadata": {
      "needs_background": "light"
     },
     "output_type": "display_data"
    },
    {
     "data": {
      "image/png": "[encoded data removed]",
      "text/plain": [
       "<Figure size 900x900 with 25 Axes>"
      ]
     },
     "metadata": {
      "needs_background": "light"
     },
     "output_type": "display_data"
    }
   ],
   "source": [
    "glider_ind = range(25)#[0,1,2,3,4,5,6,7,8]\n",
    "batch = np.asarray(glider)[glider_ind]\n",
    "x_array1 = convert.concat_examples(list(map(lambda x: x[0], batch)), gpu)\n",
    "x_array2 = convert.concat_examples(list(map(lambda x: x[1], batch)), gpu)\n",
    "x = chainer.Variable(x_array1)\n",
    "with chainer.using_config('train', False), chainer.no_backprop_mode():\n",
    "    x1 = model(x)\n",
    "save_images2(x_array1, os.path.join(out, 'glider_x'))\n",
    "save_images2(x_array2, os.path.join(out, 'glider_xnext'))\n",
    "save_images2(x1.data, os.path.join(out, 'glider_xnextreconstructed'))\n"
   ]
  },
  {
   "cell_type": "code",
   "execution_count": null,
   "metadata": {},
   "outputs": [],
   "source": []
  },
  {
   "cell_type": "code",
   "execution_count": null,
   "metadata": {},
   "outputs": [],
   "source": []
  },
  {
   "cell_type": "markdown",
   "metadata": {},
   "source": [
    "plot for paper (same format with Prednet)"
   ]
  },
  {
   "cell_type": "code",
   "execution_count": 159,
   "metadata": {},
   "outputs": [],
   "source": [
    "import matplotlib\n",
    "import matplotlib.pyplot as plt\n",
    "matplotlib.use('Agg')\n",
    "import matplotlib.gridspec as gridspec"
   ]
  },
  {
   "cell_type": "code",
   "execution_count": 171,
   "metadata": {},
   "outputs": [],
   "source": [
    "with open('X_test.pickle', 'rb') as f:\n",
    "    X_test2 = pickle.load(f)\n",
    "with open('X_hat.pickle', 'rb') as f:\n",
    "    X_hat2 = pickle.load(f)    "
   ]
  },
  {
   "cell_type": "code",
   "execution_count": 283,
   "metadata": {},
   "outputs": [],
   "source": [
    "# test_ind = [0,1,2,3,4,5,6,7,8,9]\n",
    "# test_ind = list(np.linspace(0, 99, 100, dtype='int32'))\n",
    "# batch = np.asarray(test_for_plot)[test_ind]\n",
    "test_ind = list(np.linspace(0, 9, 10, dtype='int32'))\n",
    "batch = np.asarray(test_for_plot_glider)[test_ind]\n",
    "x_array1 = convert.concat_examples(list(map(lambda x: x, batch)), gpu)\n",
    "x = chainer.Variable(x_array1)\n",
    "with chainer.using_config('train', False), chainer.no_backprop_mode():\n",
    "    x1 = model(x)"
   ]
  },
  {
   "cell_type": "code",
   "execution_count": 284,
   "metadata": {},
   "outputs": [
    {
     "data": {
      "text/plain": [
       "(10, 1, 16, 20)"
      ]
     },
     "execution_count": 284,
     "metadata": {},
     "output_type": "execute_result"
    }
   ],
   "source": [
    "x_array1.data.shape"
   ]
  },
  {
   "cell_type": "code",
   "execution_count": 287,
   "metadata": {},
   "outputs": [],
   "source": [
    "X_test = x_array1.transpose(0,2,3,1).reshape(int(x_array1.data.shape[0]/10), 10, 16, 20)\n",
    "X_hat = x1.data.transpose(0,2,3,1).reshape(int(x_array1.data.shape[0]/10), 10, 16, 20)\n",
    "X_test = np.array(list(map(lambda x: x.repeat(8, axis=1).repeat(8, axis=2), X_test)))\n",
    "X_hat = np.array(list(map(lambda x: x.repeat(8, axis=1).repeat(8, axis=2), X_hat)))"
   ]
  },
  {
   "cell_type": "code",
   "execution_count": 288,
   "metadata": {},
   "outputs": [],
   "source": [
    "# plt.gray()\n",
    "nt = 10\n",
    "aspect_ratio = 0.8\n",
    "# plt.figure(figsize = (nt, 2*aspect_ratio))\n",
    "plt.figure(figsize = (100/7.2, 16/7.2))\n",
    "gs = gridspec.GridSpec(2, nt)\n",
    "gs.update(wspace=0., hspace=0.)\n",
    "plot_save_dir = 'fig_for_paper/glider/'\n",
    "if not os.path.exists(plot_save_dir): os.mkdir(plot_save_dir)\n",
    "plot_idx = np.random.permutation(X_test.shape[0])\n",
    "\n",
    "for i in plot_idx:\n",
    "    for t in range(nt):     \n",
    "        plt.subplot(gs[t])\n",
    "        plt.imshow(cv2.cvtColor(X_test[i,t], cv2.COLOR_GRAY2RGB), interpolation='none')\n",
    "        plt.tick_params(axis='both', which='both', bottom='off', top='off', left='off', right='off', labelbottom='off', labelleft='off')\n",
    "        if t==0: plt.ylabel('Actual', fontsize=10)\n",
    "\n",
    "        plt.subplot(gs[t + nt])\n",
    "        if t % 10 == 0:\n",
    "            plt.imshow(X_hat2[0,0], interpolation='none')\n",
    "        else:\n",
    "            plt.imshow(cv2.cvtColor(X_hat[i,t-1], cv2.COLOR_GRAY2RGB), interpolation='none')\n",
    "        plt.tick_params(axis='both', which='both', bottom='off', top='off', left='off', right='off', labelbottom='off', labelleft='off')\n",
    "        if t==0: plt.ylabel('Predicted', fontsize=10)\n",
    "    \n",
    "    plt.savefig(plot_save_dir +  'plot_' + str(i) + '.png')\n",
    "    plt.clf()\n",
    "plt.close()"
   ]
  },
  {
   "cell_type": "code",
   "execution_count": null,
   "metadata": {},
   "outputs": [],
   "source": []
  },
  {
   "cell_type": "code",
   "execution_count": null,
   "metadata": {},
   "outputs": [],
   "source": []
  },
  {
   "cell_type": "code",
   "execution_count": null,
   "metadata": {},
   "outputs": [],
   "source": []
  },
  {
   "cell_type": "code",
   "execution_count": null,
   "metadata": {},
   "outputs": [],
   "source": []
  }
 ],
 "metadata": {
  "kernelspec": {
   "display_name": "Python 3",
   "language": "python",
   "name": "python3"
  },
  "language_info": {
   "codemirror_mode": {
    "name": "ipython",
    "version": 3
   },
   "file_extension": ".py",
   "mimetype": "text/x-python",
   "name": "python",
   "nbconvert_exporter": "python",
   "pygments_lexer": "ipython3",
   "version": "3.7.1"
  }
 },
 "nbformat": 4,
 "nbformat_minor": 2
}
